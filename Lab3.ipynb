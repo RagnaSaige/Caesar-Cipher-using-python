{
 "cells": [
  {
   "cell_type": "code",
   "execution_count": 2,
   "id": "9abb834e-b805-4f4b-81b6-8ad57bcee0c6",
   "metadata": {},
   "outputs": [
    {
     "name": "stdin",
     "output_type": "stream",
     "text": [
      "Enter the name anju\n",
      "Enter the roll number 12\n"
     ]
    },
    {
     "name": "stdout",
     "output_type": "stream",
     "text": [
      "['a', 'n', 'j', 'u']\n",
      "The cipher text for anju  is  ['d', 'q', 'm', 'x']\n"
     ]
    }
   ],
   "source": [
    "import string\n",
    "alp=[]\n",
    "alp=list(string.ascii_lowercase)\n",
    "def shift(name,a):\n",
    "    cipher=[]\n",
    "    for i in range(0,len(name)):\n",
    "        for j in range(0,len(alp)):\n",
    "            if(name[i]==alp[j]):\n",
    "                cipher.append(alp[(j+a)%26])\n",
    "    return cipher\n",
    "n=input(\"Enter the name\")\n",
    "r=input(\"Enter the roll number\")\n",
    "firstname=[str(i) for i in str(n)]\n",
    "print(firstname)\n",
    "rollno=[int(i) for i in str(r)]\n",
    "k=sum(rollno)\n",
    "shiftcipher=shift(firstname,k)\n",
    "print(\"The cipher text for\", n, \" is \",shiftcipher) "
   ]
  },
  {
   "cell_type": "code",
   "execution_count": 1,
   "id": "c22c25f1-f609-47b7-bc21-70954e415905",
   "metadata": {},
   "outputs": [
    {
     "name": "stdin",
     "output_type": "stream",
     "text": [
      "Enter the name anju\n",
      "Enter the roll number 12\n"
     ]
    },
    {
     "name": "stdout",
     "output_type": "stream",
     "text": [
      "The cipher text for anju  is  ['d', 'q', 'm', 'x']\n",
      "The plain text for  ['d', 'q', 'm', 'x']  is  ['a', 'n', 'j', 'u']\n"
     ]
    }
   ],
   "source": [
    "import string\n",
    "alp=[]\n",
    "alp=list(string.ascii_lowercase)\n",
    "def encrypt(name,a):\n",
    "    cipher=[]\n",
    "    for i in range(0,len(name)):\n",
    "        for j in range(0,len(alp)):\n",
    "            if(name[i]==alp[j]):\n",
    "                cipher.append(alp[(j+a)%26])\n",
    "    return cipher\n",
    "def decrypt(name,a):\n",
    "    plain=[]\n",
    "    for i in range(0,len(name)):\n",
    "        for j in range(0,len(alp)):\n",
    "            if(name[i]==alp[j]):\n",
    "                plain.append(alp[(j-a)%26])\n",
    "    return plain\n",
    "n=input(\"Enter the name\")\n",
    "r=input(\"Enter the roll number\")\n",
    "firstname=[str(i) for i in str(n)]\n",
    "rollno=[int(i) for i in str(r)]\n",
    "k=sum(rollno)\n",
    "tocipher=encrypt(firstname,k)\n",
    "toplain=decrypt(tocipher,k)\n",
    "print(\"The cipher text for\", n, \" is \",tocipher) \n",
    "print(\"The plain text for \",tocipher,\" is \", toplain)"
   ]
  },
  {
   "cell_type": "code",
   "execution_count": null,
   "id": "656c21eb-e13e-4238-8262-4ef5be2112e4",
   "metadata": {},
   "outputs": [],
   "source": []
  }
 ],
 "metadata": {
  "kernelspec": {
   "display_name": "Python 3 (ipykernel)",
   "language": "python",
   "name": "python3"
  },
  "language_info": {
   "codemirror_mode": {
    "name": "ipython",
    "version": 3
   },
   "file_extension": ".py",
   "mimetype": "text/x-python",
   "name": "python",
   "nbconvert_exporter": "python",
   "pygments_lexer": "ipython3",
   "version": "3.11.5"
  }
 },
 "nbformat": 4,
 "nbformat_minor": 5
}
